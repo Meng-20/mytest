{
  "nbformat": 4,
  "nbformat_minor": 0,
  "metadata": {
    "colab": {
      "name": "DeepLearningA2.ipynb",
      "provenance": [],
      "collapsed_sections": [],
      "authorship_tag": "ABX9TyNBqgM6Vlpm9EquNTj+WWMo"
    },
    "kernelspec": {
      "name": "python3",
      "display_name": "Python 3"
    }
  },
  "cells": [
    {
      "cell_type": "code",
      "metadata": {
        "id": "1whoPHh9up8J"
      },
      "source": [
        "import numpy as np   \r\n",
        "import matplotlib.pyplot as plt\r\n",
        "from numpy import *\r\n",
        "def sigmoid(x):\r\n",
        "    return 1.0 / ( 1.0 + np.exp( - x))\r\n",
        "def d_sigmoid(x):\r\n",
        "    return sigmoid(x)*(1-sigmoid(x))\r\n",
        "def softmax(x):\r\n",
        "  e = np.exp(x)\r\n",
        "  return e/e.sum()\r\n",
        "#https://blog.csdn.net/weixin_42156589/article/details/80518437"
      ],
      "execution_count": 20,
      "outputs": []
    },
    {
      "cell_type": "code",
      "metadata": {
        "colab": {
          "base_uri": "https://localhost:8080/"
        },
        "id": "BdWbjg-OBMDU",
        "outputId": "eb6570c1-14dd-4fb8-939a-1ad87e007746"
      },
      "source": [
        "a=np.random.rand(3,2)#the range is [0,1), include 0, do not include 1\r\n",
        "print (a)"
      ],
      "execution_count": 23,
      "outputs": [
        {
          "output_type": "stream",
          "text": [
            "[[0.22764501 0.91665228]\n",
            " [0.67670406 0.57879096]\n",
            " [0.39986337 0.45942572]]\n"
          ],
          "name": "stdout"
        }
      ]
    },
    {
      "cell_type": "code",
      "metadata": {
        "colab": {
          "base_uri": "https://localhost:8080/",
          "height": 465
        },
        "id": "j2OJf4tLmz1L",
        "outputId": "65aa6aba-f3d8-45a0-86c6-1b71ad1d5375"
      },
      "source": [
        "#create two datasets\r\n",
        "#hstack, herizonal stack, All arrays must have the same shape along all but the second axis.\r\n",
        "#reshape, a=nparray([2.3,4.5,5.6,1.2]), d=a.reshape(2,2)=([[2,3,4.5],[5.6,1.2]])\r\n",
        "#np.random.rand(20, 2), 20*2 array from 0 to 1[0,1)\r\n",
        "pts_positive = np.random.rand(10, 2) *2 + np.array([1.0, 3.0]).reshape(1,2)\r\n",
        "pts_positive = np.vstack((pts_positive, np.random.rand(10, 2) + np.array([2.0, 4.0]).reshape(1,2)))\r\n",
        "pts_positive = np.vstack((pts_positive, np.random.rand(10, 2) *2.0 + np.array([4.0, 1.0]).reshape(1,2)))\r\n",
        "pts_positive = np.vstack((pts_positive, np.random.rand(10, 2) *2.0 + np.array([5.0, 2.0]).reshape(1,2)))\r\n",
        "pts_positive = np.vstack((pts_positive, np.random.rand(10, 2) *2.0 + np.array([1.0, 1.0]).reshape(1,2)))\r\n",
        "pts_positive = np.vstack((pts_positive, np.random.rand(10, 2) *3.0 + np.array([1.0, 2.0]).reshape(1,2)))\r\n",
        "print(\"dataset1 shape\")\r\n",
        "print(pts_positive.shape)\r\n",
        "\r\n",
        "pts_negative = np.random.rand(10, 2) + np.array([2.0, 2.0]).reshape(1,2)\r\n",
        "pts_negative = np.vstack((pts_negative, np.random.rand(10, 2)*3 + np.array([3.0, 3.0]).reshape(1,2)))\r\n",
        "pts_negative = np.vstack((pts_negative, np.random.rand(10, 2)*3 + np.array([4.0, 3.5]).reshape(1,2)))\r\n",
        "pts_negative = np.vstack((pts_negative, np.random.rand(10, 2)*3 + np.array([5.0, 3.5]).reshape(1,2)))\r\n",
        "pts_negative = np.vstack((pts_negative, np.random.rand(10, 2)*3 + np.array([5.0, 3.5]).reshape(1,2)))\r\n",
        "pts_negative = np.vstack((pts_negative, np.random.rand(10, 2)*3 + np.array([5.0, 3.5]).reshape(1,2)))\r\n",
        "print(\"dataset2 shape\")\r\n",
        "print(pts_negative.shape)\r\n",
        "\r\n",
        "pts_positive = (pts_positive)\r\n",
        "pts_negative = (pts_negative)\r\n",
        "\r\n",
        "plt.figure(figsize = (6,6))\r\n",
        "plt.plot(pts_positive[:,0],pts_positive[:,1],'*')\r\n",
        "plt.plot(pts_negative[:,0],pts_negative[:,1],'o')"
      ],
      "execution_count": 111,
      "outputs": [
        {
          "output_type": "stream",
          "text": [
            "dataset1 shape\n",
            "(60, 2)\n",
            "dataset2 shape\n",
            "(60, 2)\n"
          ],
          "name": "stdout"
        },
        {
          "output_type": "execute_result",
          "data": {
            "text/plain": [
              "[<matplotlib.lines.Line2D at 0x7f10d9f23978>]"
            ]
          },
          "metadata": {
            "tags": []
          },
          "execution_count": 111
        },
        {
          "output_type": "display_data",
          "data": {
            "image/png": "[encoded data removed]",
            "text/plain": [
              "<Figure size 432x432 with 1 Axes>"
            ]
          },
          "metadata": {
            "tags": [],
            "needs_background": "light"
          }
        }
      ]
    },
    {
      "cell_type": "code",
      "metadata": {
        "colab": {
          "base_uri": "https://localhost:8080/"
        },
        "id": "FQRr672h7cua",
        "outputId": "3cc57815-62d6-40ff-860e-559af2dc1c4c"
      },
      "source": [
        "# let's train a newral network for the data\r\n",
        "\r\n",
        "input_dim = 2\r\n",
        "layer2_in = 2 # input dimension of layer2\r\n",
        "layer2_out = 10 # output dimension of layer2\r\n",
        "layer3_in = 10\r\n",
        "layer3_out = 6\r\n",
        "layerL_in = 6\r\n",
        "layerL_out = 1  # between 0 and 1\r\n",
        "\r\n",
        "# randomly initialize the weight matrix \r\n",
        "W2 = (np.random.rand(layer2_out, layer2_in)-0.5)*0.2\r\n",
        "b2 = (np.random.rand(layer2_out,1)-0.5)*0.2\r\n",
        "\r\n",
        "W3 = (np.random.rand(layer3_out,layer3_in)-0.5)*0.2\r\n",
        "b3 = (np.random.rand(layer3_out,1)-0.5)*0.2\r\n",
        "\r\n",
        "WL = (np.random.rand(layerL_out, layerL_in)-0.5)*0.2\r\n",
        "bL = (np.random.rand(layerL_out,1)-0.5)*0.2\r\n",
        "\r\n",
        "# What if we initialize them with zeros\r\n",
        "#W2 = np.zeros((layer2_out, layer2_in))\r\n",
        "#b2 = np.zeros((layer2_out,1))\r\n",
        "\r\n",
        "#W3 = np.zeros((layer3_out,layer3_in))\r\n",
        "#b3 = np.zeros((layer3_out,1))\r\n",
        "\r\n",
        "#WL = np.zeros((layerL_out, layerL_in))\r\n",
        "#bL = np.zeros((layerL_out,1))\r\n",
        "\r\n",
        "\r\n",
        "\r\n",
        "# training data\r\n",
        "# n_data = 4; # number of training samples\r\n",
        "n_data = pts_positive.shape[0] + pts_negative.shape[0]\r\n",
        "\r\n",
        "#x = np.array([[0.0, 0.0], [0.0, 1.0], [1.0, 0.0], [1.0, 1.0]]).T\r\n",
        "x = np.vstack((pts_positive, pts_negative)).T\r\n",
        "\r\n",
        "#y = np.array([[0.0], [1.0], [1.0], [0.0]]).T\r\n",
        "y = np.vstack((np.ones((pts_positive.shape[0], 1)), np.zeros((pts_negative.shape[0], 1)))).T\r\n",
        "\r\n",
        "# training \r\n",
        "\r\n",
        "lr = 0.5 # learning rate \r\n",
        "n_steps = 200000\r\n",
        "for i in range(n_steps):\r\n",
        "    \r\n",
        "    # forward \r\n",
        "    z2 = np.matmul(W2, x) + b2\r\n",
        "    a2 = sigmoid(z2)\r\n",
        "\r\n",
        "    z3 = np.matmul(W3, a2) + b3\r\n",
        "    a3 = sigmoid(z3)\r\n",
        "\r\n",
        "    zL = np.matmul(WL, a3) + bL\r\n",
        "    aL = sigmoid(zL)\r\n",
        "\r\n",
        "    # print cost  \r\n",
        "    if i % np.floor(n_steps/20) == 0:\r\n",
        "        print('Cost:' + str(0.5*np.matmul((aL - y),(aL - y).T)/n_data))\r\n",
        "    \r\n",
        "    # backward \r\n",
        "    dL = (aL - y)*d_sigmoid(zL)\r\n",
        "    \r\n",
        "    d3 = np.multiply(np.matmul(WL.T, dL), d_sigmoid(z3))\r\n",
        "    d2 = np.multiply(np.matmul(W3.T, d3), d_sigmoid(z2))\r\n",
        "\r\n",
        "    dCdWL = np.matmul(dL, a3.T)/n_data\r\n",
        "    dCdbL = np.sum(dL, axis=1).reshape((-1,1))/n_data \r\n",
        "\r\n",
        "    dCdW3 = np.matmul(d3, a2.T)/n_data\r\n",
        "    dCdb3 = np.sum(d3, axis=1).reshape((-1,1))/n_data\r\n",
        "    \r\n",
        "    dCdW2 = np.matmul(d2, x.T)/n_data\r\n",
        "    dCdb2 = np.sum(d2, axis=1).reshape((-1,1))/n_data\r\n",
        "\r\n",
        "    WL = WL - lr*dCdWL\r\n",
        "    bL = bL - lr*dCdbL\r\n",
        "    \r\n",
        "    W3 = W3 - lr*dCdW3\r\n",
        "    b3 = b3 - lr*dCdb3\r\n",
        "    \r\n",
        "    W2 = W2 - lr*dCdW2    \r\n",
        "    b2 = b2 - lr*dCdb2\r\n",
        "\r\n",
        "# testing the trained network\r\n",
        "z2 = np.matmul(W2, x) + b2\r\n",
        "a2 = sigmoid(z2)\r\n",
        "\r\n",
        "z3 = np.matmul(W3, a2) + b3\r\n",
        "a3 = sigmoid(z3)\r\n",
        "\r\n",
        "zL = np.matmul(WL, a3) + bL\r\n",
        "aL = sigmoid(zL)\r\n",
        "\r\n",
        "print('Cost:' + str(0.5*np.matmul((aL - y),(aL - y).T)/n_data))\r\n",
        "print('\\ninput:')\r\n",
        "print(x)\r\n",
        "print('\\ntrue output:')\r\n",
        "print(y)\r\n",
        "print('\\nprediction:')\r\n",
        "print(aL)\r\n",
        "\r\n",
        "print('\\nweights:')\r\n",
        "print(WL)\r\n",
        "print(bL)\r\n",
        "print(W3)\r\n",
        "print(b3)\r\n",
        "print(W2)\r\n",
        "print(b2)"
      ],
      "execution_count": 148,
      "outputs": [
        {
          "output_type": "stream",
          "text": [
            "Cost:[[0.12505709]]\n",
            "Cost:[[0.03721725]]\n",
            "Cost:[[0.02543406]]\n",
            "Cost:[[0.0225318]]\n",
            "Cost:[[0.02087793]]\n",
            "Cost:[[0.01962004]]\n",
            "Cost:[[0.01862465]]\n",
            "Cost:[[0.01794343]]\n",
            "Cost:[[0.01383906]]\n",
            "Cost:[[0.01275082]]\n",
            "Cost:[[0.01204237]]\n",
            "Cost:[[0.01150658]]\n",
            "Cost:[[0.01105021]]\n",
            "Cost:[[0.01060742]]\n",
            "Cost:[[0.01014718]]\n",
            "Cost:[[0.00962826]]\n",
            "Cost:[[0.00896686]]\n",
            "Cost:[[0.00825176]]\n",
            "Cost:[[0.0076607]]\n",
            "Cost:[[0.00723137]]\n",
            "Cost:[[0.00690931]]\n",
            "\n",
            "input:\n",
            "[[2.79058909 1.69582059 2.55799084 1.65614846 1.54223238 2.56822025\n",
            "  2.06057809 2.25479049 1.68585127 1.87721529 2.85947457 2.55185875\n",
            "  2.60698135 2.60008374 2.1616401  2.04262462 2.13462605 2.13796907\n",
            "  2.53221733 2.69870042 5.9150954  4.57670123 5.62257667 5.68074739\n",
            "  5.12775475 4.56448879 5.09117002 4.26647996 5.89439875 5.52391171\n",
            "  5.09338168 5.01820296 6.40294302 6.82459338 6.21430053 5.48977683\n",
            "  6.01516271 5.30150281 6.58128965 6.02035612 2.31781875 1.22222764\n",
            "  1.11687218 2.54399612 1.79367727 1.41773598 1.3341627  1.41615163\n",
            "  2.69330846 2.30305564 3.27869717 1.9244735  1.37457235 2.68551408\n",
            "  3.00975694 1.94980471 2.19539327 1.16017326 3.67426146 1.97261609\n",
            "  2.0424779  2.79569847 2.50027364 2.8875137  2.77274071 2.82742261\n",
            "  2.25499586 2.23015433 2.87154772 2.58758338 4.13128941 4.9090958\n",
            "  4.91650841 4.31630778 3.69455011 3.98799088 3.08341103 5.53028874\n",
            "  5.13314174 3.3710312  4.81827941 4.41789076 6.27429842 6.54007898\n",
            "  5.10952862 5.66543986 6.69888197 5.12758613 4.60612065 5.30729428\n",
            "  6.05445298 7.06815383 6.80654936 5.69640822 5.876345   6.42738391\n",
            "  5.19845248 6.28259875 6.01000391 6.88781236 6.32942173 7.47359229\n",
            "  5.42648548 7.41655851 6.424912   6.54989038 5.21106637 7.08911535\n",
            "  6.4311614  7.85652627 5.99988909 7.47254676 5.901014   6.78852563\n",
            "  6.45539243 5.0949743  7.31959294 7.75824122 5.35405264 5.66797532]\n",
            " [4.32890945 3.23714449 3.20783506 4.62014215 4.87373792 4.69550623\n",
            "  4.4655619  3.08299134 4.92880097 3.02014102 4.1473875  4.24611743\n",
            "  4.10414785 4.63608986 4.63191742 4.31694702 4.72881921 4.10820114\n",
            "  4.22824663 4.95005154 2.09284584 1.68793313 1.52857088 2.85062777\n",
            "  1.86620406 2.99534177 2.08970006 2.15539035 2.38167885 1.99150046\n",
            "  3.04840416 3.08378172 2.30346937 2.12287785 2.94843638 2.59878213\n",
            "  3.20890548 2.07051179 2.8481894  3.28892068 1.97565141 1.20223461\n",
            "  2.76494113 2.65563318 2.49631629 1.83381171 1.55476776 1.22408128\n",
            "  1.78544384 2.04410537 4.42132135 2.5435703  4.04147872 3.31876821\n",
            "  2.38935896 2.50920173 4.17732874 2.50572111 4.47585579 3.38545186\n",
            "  2.83734894 2.56791061 2.84233171 2.08048557 2.7854035  2.26810966\n",
            "  2.86776293 2.54074393 2.51399842 2.29527839 3.15803359 5.86178439\n",
            "  3.2374756  4.15617027 4.45909481 5.07043437 5.04093332 4.27622468\n",
            "  5.95047868 5.42182954 4.29488067 3.71216598 3.91952323 4.48446115\n",
            "  5.97458296 5.57900788 4.04687031 4.14026855 3.81620706 4.85401988\n",
            "  5.95795651 4.19078931 5.87220989 6.22922541 4.24778604 5.04224261\n",
            "  3.94704407 3.50774564 4.49450268 3.89296115 5.65277536 4.71621698\n",
            "  4.74438066 5.00279734 4.63234212 4.9610965  5.95082713 3.58255026\n",
            "  5.40647947 4.4411071  4.91356067 5.82074185 5.31822547 4.53138566\n",
            "  4.54443204 3.7390643  5.07970088 3.79818951 6.48689844 4.34224522]]\n",
            "\n",
            "true output:\n",
            "[[1. 1. 1. 1. 1. 1. 1. 1. 1. 1. 1. 1. 1. 1. 1. 1. 1. 1. 1. 1. 1. 1. 1. 1.\n",
            "  1. 1. 1. 1. 1. 1. 1. 1. 1. 1. 1. 1. 1. 1. 1. 1. 1. 1. 1. 1. 1. 1. 1. 1.\n",
            "  1. 1. 1. 1. 1. 1. 1. 1. 1. 1. 1. 1. 0. 0. 0. 0. 0. 0. 0. 0. 0. 0. 0. 0.\n",
            "  0. 0. 0. 0. 0. 0. 0. 0. 0. 0. 0. 0. 0. 0. 0. 0. 0. 0. 0. 0. 0. 0. 0. 0.\n",
            "  0. 0. 0. 0. 0. 0. 0. 0. 0. 0. 0. 0. 0. 0. 0. 0. 0. 0. 0. 0. 0. 0. 0. 0.]]\n",
            "\n",
            "prediction:\n",
            "[[9.99999062e-01 1.00000000e+00 9.40983581e-01 1.00000000e+00\n",
            "  1.00000000e+00 9.99996097e-01 1.00000000e+00 9.24635635e-01\n",
            "  1.00000000e+00 9.99999997e-01 9.99999628e-01 9.99999909e-01\n",
            "  9.99999922e-01 9.99996932e-01 9.99999999e-01 1.00000000e+00\n",
            "  9.99999999e-01 9.99999999e-01 9.99999928e-01 9.96223607e-01\n",
            "  9.99999993e-01 9.99999997e-01 9.99999996e-01 9.99999930e-01\n",
            "  9.99999996e-01 9.76662240e-01 9.99999996e-01 9.99999996e-01\n",
            "  9.99999986e-01 9.99999995e-01 9.99999762e-01 9.99998251e-01\n",
            "  9.99999962e-01 9.99999937e-01 9.99989630e-01 9.99999988e-01\n",
            "  9.99799717e-01 9.99999996e-01 9.99856119e-01 9.98195074e-01\n",
            "  9.94694456e-01 1.00000000e+00 1.00000000e+00 8.32702763e-01\n",
            "  9.99991811e-01 1.00000000e+00 1.00000000e+00 1.00000000e+00\n",
            "  9.99869329e-01 9.99753816e-01 9.99661098e-01 9.25432662e-01\n",
            "  1.00000000e+00 9.99589686e-01 2.93015356e-05 8.71959961e-01\n",
            "  9.99999998e-01 1.00000000e+00 6.70941675e-01 1.00000000e+00\n",
            "  1.65330872e-01 1.33807676e-03 1.28569797e-03 2.01668295e-02\n",
            "  8.68828249e-02 7.51077642e-05 1.67581064e-04 2.32064139e-01\n",
            "  6.35062830e-05 6.34849930e-02 2.78770857e-06 9.01689262e-09\n",
            "  2.28686185e-02 2.31139542e-02 6.20219603e-01 1.58415034e-05\n",
            "  9.85621438e-02 6.27574915e-06 1.61711978e-09 3.25309234e-05\n",
            "  2.36709728e-02 1.02815546e-03 3.15608853e-07 1.30422103e-07\n",
            "  2.20007905e-09 3.21658903e-09 1.46194118e-06 1.90847142e-04\n",
            "  7.04033695e-04 2.67697281e-06 2.49518285e-09 2.58472116e-06\n",
            "  8.92354407e-06 6.87951719e-10 4.45881058e-08 9.39463837e-05\n",
            "  1.05213138e-07 2.26757640e-02 4.96619047e-06 4.84590289e-06\n",
            "  1.06785674e-06 2.48984487e-02 6.92545917e-05 6.65277132e-04\n",
            "  4.10209195e-06 7.35705156e-05 1.07023565e-09 1.34796391e-05\n",
            "  3.74756028e-05 4.41100451e-06 1.01868540e-04 9.36757069e-05\n",
            "  1.06119507e-06 3.70569811e-07 5.64334540e-07 2.22341083e-08\n",
            "  1.53087446e-04 1.29632362e-06 6.88825988e-09 5.40756271e-06]]\n",
            "\n",
            "weights:\n",
            "[[  5.25030632  -5.84378546   5.88987745 -16.76615472  11.85405739\n",
            "    0.32300027]]\n",
            "[[0.22810785]]\n",
            "[[-3.19217668e-01  2.60136522e+00  1.82331185e+00 -1.70547069e+00\n",
            "   2.23072332e+00 -1.02916100e+00  1.11500214e+00 -1.07690862e+00\n",
            "   2.06814538e+00 -1.20340020e+00]\n",
            " [ 3.39013768e-01 -2.81731548e+00 -2.20312504e+00  1.92576056e+00\n",
            "  -2.50079861e+00  1.07266563e+00 -1.30509554e+00  1.12551868e+00\n",
            "  -2.32826131e+00  1.45314393e+00]\n",
            " [-3.92417884e-01  2.92320201e+00  2.12092837e+00 -1.90997234e+00\n",
            "   2.44974843e+00 -1.08972782e+00  1.27452843e+00 -1.13327221e+00\n",
            "   2.28519127e+00 -1.44258879e+00]\n",
            " [ 1.28574852e+00 -6.36162735e+00 -6.34348837e+00  5.39722910e+00\n",
            "  -7.93120138e+00  3.54571474e+00 -3.65103611e+00  3.30160389e+00\n",
            "  -6.82644872e+00  4.56724175e+00]\n",
            " [-8.41539704e-01  6.13825917e+00  4.12451867e+00 -3.71420821e+00\n",
            "   4.82326138e+00 -2.35422995e+00  2.50778250e+00 -2.13970000e+00\n",
            "   4.69924947e+00 -2.85241630e+00]\n",
            " [ 8.00505139e-03  1.75637589e-01  1.22633292e-04 -1.10841626e-01\n",
            "   7.68866563e-02 -1.59601844e-01 -2.62594406e-02 -1.67890524e-02\n",
            "   1.95053792e-01 -1.39917864e-01]]\n",
            "[[ 0.13704823]\n",
            " [-0.06046837]\n",
            " [ 0.17649006]\n",
            " [-0.42395394]\n",
            " [ 0.44413359]\n",
            " [ 0.02571699]]\n",
            "[[ 0.85997076  1.3880406 ]\n",
            " [-2.08323962  6.78614374]\n",
            " [-6.41893143  0.56366655]\n",
            " [ 8.30696322 -5.80592925]\n",
            " [-1.27070082 -2.02594197]\n",
            " [-5.17260591  5.4313028 ]\n",
            " [-4.09971997  0.30839568]\n",
            " [ 3.90644817 -0.13360746]\n",
            " [ 4.80504139 -7.43764698]\n",
            " [-4.29495192  5.3713423 ]]\n",
            "[[ -1.4064467 ]\n",
            " [-16.35213764]\n",
            " [ 10.23050065]\n",
            " [ -7.43579931]\n",
            " [ 14.15446931]\n",
            " [ -1.59088994]\n",
            " [  5.23923601]\n",
            " [ -5.31313318]\n",
            " [  0.09640867]\n",
            " [ -4.01877043]]\n"
          ],
          "name": "stdout"
        }
      ]
    },
    {
      "cell_type": "code",
      "metadata": {
        "colab": {
          "base_uri": "https://localhost:8080/",
          "height": 501
        },
        "id": "ofrNzJgfsxvx",
        "outputId": "9756b1cf-e1a9-4837-d3d7-0b45174b0a27"
      },
      "source": [
        "#visualize \r\n",
        "xs = np.linspace(0, 8, 100)\r\n",
        "ys = np.linspace(0, 8, 100)\r\n",
        "xv, yv = np.meshgrid(xs, ys)\r\n",
        "\r\n",
        "pts_new = np.hstack((xv.reshape((-1,1)), yv.reshape((-1,1)))).T\r\n",
        "print(pts_new.shape)\r\n",
        "\r\n",
        "z2 = np.matmul(W2, pts_new) + b2\r\n",
        "a2 = sigmoid(z2)\r\n",
        "\r\n",
        "z3 = np.matmul(W3, a2) + b3\r\n",
        "a3 = sigmoid(z3)\r\n",
        "\r\n",
        "zL = np.matmul(WL, a3) + bL\r\n",
        "aL = sigmoid(zL)\r\n",
        "\r\n",
        "plt.figure(figsize=(8,8))\r\n",
        "plt.plot(xv.reshape((-1,1))[aL[0,:]<0.5,0],yv.reshape((-1,1))[aL[0,:]<0.5,0],'r.' , markersize = 1)\r\n",
        "plt.plot(xv.reshape((-1,1))[aL[0,:]>=0.5,0],yv.reshape((-1,1))[aL[0,:]>=0.5,0],'b.', markersize = 1)\r\n",
        "plt.plot(pts_positive[:,0],pts_positive[:,1],'x')\r\n",
        "plt.plot(pts_negative[:,0],pts_negative[:,1],'o')\r\n",
        "plt.show()"
      ],
      "execution_count": 149,
      "outputs": [
        {
          "output_type": "stream",
          "text": [
            "(2, 10000)\n"
          ],
          "name": "stdout"
        },
        {
          "output_type": "display_data",
          "data": {
            "image/png": "[encoded data removed]",
            "text/plain": [
              "<Figure size 576x576 with 1 Axes>"
            ]
          },
          "metadata": {
            "tags": [],
            "needs_background": "light"
          }
        }
      ]
    }
  ]
}